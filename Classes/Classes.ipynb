{
 "cells": [
  {
   "cell_type": "markdown",
   "id": "7aea2bc9-00ee-4f75-b759-135701409005",
   "metadata": {},
   "source": [
    "# Python Classes Tutorial:"
   ]
  },
  {
   "cell_type": "markdown",
   "id": "3a44e972-7ad6-436b-8ce6-a8c43f2006cf",
   "metadata": {},
   "source": [
    "## Introduction to Python Classes\n",
    "\n",
    "Python provides a powerful approach to data encapsulation and functionality grouping through classes. A class is a blueprint for creating objects, providing initial values for state (member variables) and implementations of behavior (member functions or methods)."
   ]
  },
  {
   "cell_type": "markdown",
   "id": "4e7a045e-2d18-495d-94ba-aceb5c57e8f9",
   "metadata": {},
   "source": [
    "### Creating and Using a Basic Class\n"
   ]
  },
  {
   "cell_type": "code",
   "execution_count": null,
   "id": "4ed0988d-8654-4ffc-82a8-cbba2fc3b172",
   "metadata": {},
   "outputs": [],
   "source": [
    "class Person:\n",
    "    def __init__(self, name, age):\n",
    "        self.name = name  # Instance attribute\n",
    "        self.age = age    # Instance attribute\n",
    "\n",
    "    def greet(self):\n",
    "        return f\"Hello, my name is {self.name} and I am {self.age} years old.\"\n"
   ]
  },
  {
   "cell_type": "markdown",
   "id": "4596158a-59b1-403e-8096-a85851d551eb",
   "metadata": {},
   "source": [
    "Here, \\_\\_init__ is the class constructor that Python calls when you create a new instance of this class."
   ]
  },
  {
   "cell_type": "markdown",
   "id": "91a72ce7-5200-467f-a435-d1c48d769828",
   "metadata": {},
   "source": [
    "## Attributes: Instance vs. Class Attributes"
   ]
  },
  {
   "cell_type": "markdown",
   "id": "347a64f6-f966-4e6a-8041-14eac79d51ef",
   "metadata": {},
   "source": [
    "Attributes in Python classes are variables associated with a class or its instances.\n",
    "\n",
    "### Example of Class and Instance Attributes:"
   ]
  },
  {
   "cell_type": "code",
   "execution_count": null,
   "id": "ecdb8b01-1518-4f46-a689-205fa53e5408",
   "metadata": {},
   "outputs": [],
   "source": [
    "class Dog:\n",
    "    species = \"Canis familiaris\"  # Class attribute, shared by all instances\n",
    "\n",
    "    def __init__(self, name, age):\n",
    "        self.name = name  # Instance attribute, unique to each instance\n",
    "        self.age = age    # Instance attribute, unique to each instance\n"
   ]
  },
  {
   "cell_type": "markdown",
   "id": "873729fe-4578-4e38-915f-a40f0fae9b97",
   "metadata": {},
   "source": [
    "Usage: "
   ]
  },
  {
   "cell_type": "code",
   "execution_count": null,
   "id": "8bb3eb71-3623-48d4-9e48-74c840f45ffa",
   "metadata": {},
   "outputs": [],
   "source": [
    "dog1 = Dog(\"Buddy\", 5)\n",
    "dog2 = Dog(\"Lucy\", 3)\n",
    "print(dog1.species)  # Canis familiaris\n",
    "print(dog2.name)     # Lucy\n"
   ]
  },
  {
   "cell_type": "markdown",
   "id": "c8753eca-567d-41e3-90ff-3aec5f5808bf",
   "metadata": {},
   "source": [
    "## Methods: Instance, Class, and Static Methods\n",
    "\n",
    "Methods are functions defined inside the body of a class. They are used to define the behaviors of an object.\n",
    "\n",
    "### Instance Methods\n",
    "\n",
    "Instance methods are functions that operate on an instance of the class.\n",
    "\n",
    "#### Example:"
   ]
  },
  {
   "cell_type": "code",
   "execution_count": null,
   "id": "141c9bab-1577-437e-bf8c-83adecbd354c",
   "metadata": {},
   "outputs": [],
   "source": [
    "class Dog:\n",
    "    def __init__(self, name, age):\n",
    "        self.name = name\n",
    "        self.age = age\n",
    "\n",
    "    def description(self):\n",
    "        return f\"{self.name} is {self.age} years old\"\n"
   ]
  },
  {
   "cell_type": "markdown",
   "id": "05842752-b53e-480f-b09c-d89b8a1794b3",
   "metadata": {},
   "source": [
    "### Class Methods\n",
    "\n",
    "Class methods are methods that are bound to the class and not the object of the class. They can modify a class state that applies across all instances.\n",
    "\n",
    "#### Example:"
   ]
  },
  {
   "cell_type": "code",
   "execution_count": null,
   "id": "9223c7ff-8a79-4688-9e52-49e3acb419fe",
   "metadata": {},
   "outputs": [],
   "source": [
    "class Dog:\n",
    "    total_dogs = 0  # Class variable\n",
    "\n",
    "    def __init__(self, name, age):\n",
    "        self.name = name\n",
    "        self.age = age\n",
    "        Dog.total_dogs += 1\n",
    "\n",
    "    @classmethod\n",
    "    def dog_count(cls):\n",
    "        return f\"Total dogs: {cls.total_dogs}\"\n"
   ]
  },
  {
   "cell_type": "markdown",
   "id": "95ae2f50-a486-4594-bfef-55428670690e",
   "metadata": {},
   "source": [
    "### Static Methods\n",
    "\n",
    "Static methods do not need a class or instance reference. They are utility methods.\n",
    "\n",
    "#### Example:"
   ]
  },
  {
   "cell_type": "code",
   "execution_count": null,
   "id": "e5f1fb28-857f-4771-ac48-99ccf5da0183",
   "metadata": {},
   "outputs": [],
   "source": [
    "class Dog:\n",
    "    @staticmethod\n",
    "    def general_info():\n",
    "        return \"Dogs are domesticated mammals.\"\n"
   ]
  },
  {
   "cell_type": "markdown",
   "id": "cd6f25ef-fa0e-4740-8bc2-deb26e4835a4",
   "metadata": {},
   "source": [
    "## Decorators: Enhancing Functionality\n",
    "\n",
    "Decorators allow us to modify the behavior of a function or method. Python provides several built-in decorators like @property, @classmethod, and @staticmethod.\n",
    "\n",
    "### 1. @property and @setter\n",
    "The @property decorator allows us to define methods that can be accessed like attributes. This can be useful for encapsulating behavior, adding checks, or computing additional properties.\n",
    "\n",
    "#### Example:"
   ]
  },
  {
   "cell_type": "code",
   "execution_count": null,
   "id": "7bea1b28-06f4-4d19-a2b5-5002e60ed864",
   "metadata": {},
   "outputs": [],
   "source": [
    "class Temperature:\n",
    "    def __init__(self, celsius):\n",
    "        self._celsius = celsius\n",
    "\n",
    "    @property\n",
    "    def celsius(self):\n",
    "        return self._celsius\n",
    "\n",
    "    @celsius.setter\n",
    "    def celsius(self, value):\n",
    "        if value < -273.15:\n",
    "            raise ValueError(\"Temperature below -273.15 is not possible\")\n",
    "        self._celsius = value\n"
   ]
  },
  {
   "cell_type": "markdown",
   "id": "2f137805-1c69-46e0-81b9-c63c359d3cef",
   "metadata": {},
   "source": [
    "### 2. @classmethod and @staticmethod\n",
    "\n",
    "These decorators are used for defining methods that operate on the class or are independent of class instances, respectively.\n",
    "\n",
    "#### Detailed Example for @classmethod:"
   ]
  },
  {
   "cell_type": "code",
   "execution_count": null,
   "id": "61769227-dcf2-409c-a271-fa3bf9165c6e",
   "metadata": {},
   "outputs": [],
   "source": [
    "class Dog:\n",
    "    total_dogs = 0\n",
    "\n",
    "    def __init__(self, name, age):\n",
    "        self.name = name\n",
    "        self.age = age\n",
    "        Dog.total_dogs += 1\n",
    "\n",
    "    @classmethod\n",
    "    def dog_count(cls):\n",
    "        return f\"Total dogs: {cls.total_dogs}\"\n"
   ]
  },
  {
   "cell_type": "markdown",
   "id": "0d16dde4-32ba-4827-9727-088861639bc2",
   "metadata": {},
   "source": [
    "#### Detailed Example for @staticmethod:"
   ]
  },
  {
   "cell_type": "code",
   "execution_count": null,
   "id": "7c634e90-17aa-40f9-b431-3354c64fa20a",
   "metadata": {},
   "outputs": [],
   "source": [
    "class Math:\n",
    "    @staticmethod\n",
    "    def add(x, y):\n",
    "        return x + y\n"
   ]
  },
  {
   "cell_type": "markdown",
   "id": "04bd6fe8-7171-41b4-a0f1-d6dd5af5df01",
   "metadata": {},
   "source": [
    "## Inheritance: Extending Classes\n",
    "\n",
    "Inheritance allows us to define a class that inherits all the methods and properties from another class.\n",
    "\n",
    "### Example:"
   ]
  },
  {
   "cell_type": "code",
   "execution_count": null,
   "id": "5dd8f3b5-54d3-467e-90d9-2c2a2aa8cfd0",
   "metadata": {},
   "outputs": [],
   "source": [
    "class Animal:\n",
    "    def speak(self):\n",
    "        raise NotImplementedError(\"This method should be overridden by subclasses\")\n",
    "\n",
    "class Dog(Animal):\n",
    "    def speak(self):\n",
    "        return \"Woof!\"\n",
    "\n",
    "class Cat(Animal):\n",
    "    def speak(self):\n",
    "        return \"Meow!\"\n"
   ]
  },
  {
   "cell_type": "markdown",
   "id": "7f77c0a7-2887-4f68-a9ee-5355ec0e1a72",
   "metadata": {},
   "source": [
    "## Polymorphism \n",
    "\n",
    "Polymorphism allows us to define methods in the child class that have the same name as the methods in the parent class. This ability to present the same interface for different underlying forms (data types) is a core concept in OOP.\n",
    "\n",
    "### Example of Polymorphism\n",
    "Let’s consider an example with a base class Animal and derived classes Dog and Cat, each with a method speak() which is specific to the type of animal."
   ]
  },
  {
   "cell_type": "code",
   "execution_count": null,
   "id": "638bca0b-69f1-487c-bf96-843789cb6a2f",
   "metadata": {},
   "outputs": [],
   "source": [
    "class Animal:\n",
    "    def speak(self):\n",
    "        raise NotImplementedError(\"Subclasses must implement this abstract method\")\n",
    "\n",
    "class Dog(Animal):\n",
    "    def speak(self):\n",
    "        return \"Woof!\"\n",
    "\n",
    "class Cat(Animal):\n",
    "    def speak(self):\n",
    "        return \"Meow!\"\n",
    "\n",
    "def animal_sound(animal):\n",
    "    print(animal.speak())\n",
    "\n",
    "# Create instances\n",
    "dog = Dog()\n",
    "cat = Cat()\n",
    "\n",
    "# Polymorphic function\n",
    "animal_sound(dog)  # Outputs: Woof!\n",
    "animal_sound(cat)  # Outputs: Meow!\n"
   ]
  },
  {
   "cell_type": "markdown",
   "id": "ad9e9e9d-33c8-4e38-bad5-15efc3460b10",
   "metadata": {},
   "source": [
    "In this example, animal_sound is a polymorphic function that can accept any object that has a speak method, demonstrating polymorphism."
   ]
  },
  {
   "cell_type": "markdown",
   "id": "ada950fd-6f6f-497d-98fb-90f9e5b653d6",
   "metadata": {},
   "source": [
    "## Encapsulation\n",
    "\n",
    "Encapsulation is the bundling of data (attributes) and the methods (functions) that use them into a single unit or class. It restricts direct access to some of the object's components, which can prevent the accidental modification of data. Encapsulation makes the concept of \"private variables\" possible.\n",
    "\n",
    "### Example of Encapsulation\n",
    "Here, we'll use a class Computer to demonstrate how to encapsulate its data and how to provide public methods to access and modify the private variables."
   ]
  },
  {
   "cell_type": "code",
   "execution_count": null,
   "id": "70f75bf7-8e19-4725-8852-87fd4a70e160",
   "metadata": {},
   "outputs": [],
   "source": [
    "class Computer:\n",
    "    def __init__(self):\n",
    "        self.__max_price = 900  # Private attribute\n",
    "\n",
    "    def sell(self):\n",
    "        return f\"Selling Price: {self.__max_price}\"\n",
    "\n",
    "    def set_max_price(self, price):\n",
    "        if price > 1000:\n",
    "            self.__max_price = price\n",
    "        else:\n",
    "            print(\"The price must be higher than 1000.\")\n",
    "\n",
    "# Create an instance\n",
    "c = Computer()\n",
    "print(c.sell())  # Outputs: Selling Price: 900\n",
    "\n",
    "# Try to change the price\n",
    "c.set_max_price(1100)\n",
    "print(c.sell())  # Outputs: Selling Price: 1100\n",
    "\n",
    "# Direct access (will fail)\n",
    "# print(c.__max_price)  # This will raise an error\n",
    "\n"
   ]
  },
  {
   "cell_type": "markdown",
   "id": "40736298-5a3d-4743-a933-c328d58b4a22",
   "metadata": {},
   "source": [
    "In this example, __max_price is a private attribute, denoted by the double underscores. It cannot be accessed directly from outside the class. Instead, we use a public method set_max_price to modify it under certain conditions. This ensures that the price cannot be changed to an undesired value accidentally or intentionally in an unauthorized manner."
   ]
  },
  {
   "cell_type": "markdown",
   "id": "8d573ae9-7262-495f-bdad-67359228a723",
   "metadata": {},
   "source": [
    "## Conclusion\n",
    "\n",
    "This comprehensive tutorial has explored several fundamental and advanced concepts crucial for understanding and effectively using Python classes. Below is a brief summary of the key topics covered:\n",
    "\n",
    "**Classes and Instances:** We introduced Python classes as blueprints for creating objects, each with their own methods and attributes. Through example code, we demonstrated how to define and instantiate classes.\n",
    "\n",
    "**Attributes:** We differentiated between instance attributes, which are unique to each object, and class attributes, which are shared across all instances of a class.\n",
    "\n",
    "**Methods:** We discussed different types of methods within a class: instance methods (which act on an instance of the class), class methods (which act on the class itself), and static methods (which do not depend on class or instance context).\n",
    "\n",
    "**Decorators:** Decorators such as @property, @setter, @classmethod, and @staticmethod were explained, showing how they can enhance and modify the behavior of class methods and attributes for better control and encapsulation.\n",
    "\n",
    "**Inheritance:** We explored how classes can inherit attributes and methods from other classes, allowing for code reuse and the creation of a class hierarchy.\n",
    "\n",
    "**Polymorphism:** This concept allows methods to have the same name but behave differently based on which class's object invokes them, enhancing flexibility in code execution.\n",
    "\n",
    "**Encapsulation:** We covered how classes encapsulate data and methods, providing both protection against misuse and a clear interface for interaction.\n",
    "\n",
    "These principles together form the backbone of object-oriented programming in Python, facilitating the development of modular, scalable, and maintainable code. Whether you're building simple scripts or complex, large-scale applications, understanding these concepts is crucial for effectively organizing and protecting your code's logic and data structure."
   ]
  },
  {
   "cell_type": "code",
   "execution_count": null,
   "id": "de0efd8b-49d5-41fc-a31a-7f8e3687aa16",
   "metadata": {},
   "outputs": [],
   "source": []
  },
  {
   "cell_type": "code",
   "execution_count": null,
   "id": "a8c15984-9964-464d-bfc8-392ed8c286bb",
   "metadata": {},
   "outputs": [],
   "source": []
  }
 ],
 "metadata": {
  "kernelspec": {
   "display_name": "Python 3 (ipykernel)",
   "language": "python",
   "name": "python3"
  },
  "language_info": {
   "codemirror_mode": {
    "name": "ipython",
    "version": 3
   },
   "file_extension": ".py",
   "mimetype": "text/x-python",
   "name": "python",
   "nbconvert_exporter": "python",
   "pygments_lexer": "ipython3",
   "version": "3.10.15"
  }
 },
 "nbformat": 4,
 "nbformat_minor": 5
}
