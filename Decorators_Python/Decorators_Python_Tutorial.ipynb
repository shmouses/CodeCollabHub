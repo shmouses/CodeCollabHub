{
 "cells": [
  {
   "cell_type": "markdown",
   "metadata": {},
   "source": [
    "# Python Decorators Tutorial"
   ]
  },
  {
   "cell_type": "markdown",
   "metadata": {},
   "source": [
    "## Introduction\n",
    "\n",
    "In this tutorial, we will explore Python decorators, a powerful tool that allows you to modify the behavior of a function or class. Decorators are a type of higher-order function that takes another function and extends its behavior without explicitly modifying it. They are very helpful for logging, access control, memoization, and more."
   ]
  },
  {
   "cell_type": "markdown",
   "metadata": {},
   "source": [
    "## Functions as First-Class Objects\n",
    "In Python, functions are first-class objects. This means that functions can be passed around and used as arguments just like any other object (string, int, float, list, and so on). Here's how you can pass functions as arguments to other functions:"
   ]
  },
  {
   "cell_type": "code",
   "execution_count": 5,
   "metadata": {},
   "outputs": [
    {
     "name": "stdout",
     "output_type": "stream",
     "text": [
      "HI, I AM A PYTHON FUNCTION AND CAN BE PASSED AROUND!\n",
      "hi, i am a python function and can be passed around!\n"
     ]
    }
   ],
   "source": [
    "def shout(text):\n",
    "    return text.upper()\n",
    "\n",
    "def whisper(text):\n",
    "    return text.lower()\n",
    "\n",
    "def greet(func):\n",
    "    # Passing the function shout or whisper as an argument\n",
    "    greeting = func(\"Hi, I am a Python function and can be passed around!\")\n",
    "    print(greeting)\n",
    "\n",
    "greet(shout)\n",
    "greet(whisper)\n"
   ]
  },
  {
   "cell_type": "markdown",
   "metadata": {},
   "source": [
    "This feature allows functions to be defined, passed around, and used inside other functions, forming the foundation of decorators."
   ]
  },
  {
   "cell_type": "markdown",
   "metadata": {},
   "source": [
    "## What is a Decorator?\n",
    "\n",
    "A decorator is a function that takes another function and extends its behavior without explicitly modifying it. Decorators are a very powerful and useful tool in Python since they allow the modification of the behavior of a function or method in a declarative manner.\n",
    "\n",
    "### Why Use Wrapper Functions?\n",
    "The wrapper function in a decorator is critical for several reasons:\n",
    "\n",
    "Isolation of Enhancements: It isolates the enhancements or changes from the main logic of the function being decorated. This means that the original function does not get modified directly, which is important for maintaining clean and manageable code.\n",
    "\n",
    "Additional Behavior: The wrapper allows adding behavior both before and after the function call, which is not possible if you were to modify or replace the function directly.\n",
    "\n",
    "Reusability: It enables the decorator to be used with any function, regardless of its parameters, which enhances flexibility and reusability.\n",
    "\n",
    "Preservation of Function Signatures: Using a wrapper ensures that the decorated function's signature is preserved, which is important for functions that might be used in contexts where specific arguments are expected."
   ]
  },
  {
   "cell_type": "markdown",
   "metadata": {},
   "source": [
    "## Creating a Basic Decorator\n",
    "Let's start by creating a simple decorator that prints a statement before and after the execution of a function."
   ]
  },
  {
   "cell_type": "code",
   "execution_count": 1,
   "metadata": {},
   "outputs": [
    {
     "name": "stdout",
     "output_type": "stream",
     "text": [
      "Something is happening before the function is called.\n",
      "Hello!\n",
      "Something is happening after the function is called.\n"
     ]
    }
   ],
   "source": [
    "def simple_decorator(func):\n",
    "    def wrapper():\n",
    "        print(\"Something is happening before the function is called.\")\n",
    "        func()\n",
    "        print(\"Something is happening after the function is called.\")\n",
    "    return wrapper\n",
    "\n",
    "def say_hello():\n",
    "    print(\"Hello!\")\n",
    "\n",
    "# Applying decorator\n",
    "say_hello = simple_decorator(say_hello)\n",
    "\n",
    "say_hello()\n"
   ]
  },
  {
   "cell_type": "markdown",
   "metadata": {},
   "source": [
    "## Using the @ Syntax for Decorators\n",
    "\n",
    "Python provides a syntactic sugar to apply decorators in a simpler way using the @ symbol."
   ]
  },
  {
   "cell_type": "code",
   "execution_count": 2,
   "metadata": {},
   "outputs": [
    {
     "name": "stdout",
     "output_type": "stream",
     "text": [
      "Something is happening before the function is called.\n",
      "Goodbye!\n",
      "Something is happening after the function is called.\n"
     ]
    }
   ],
   "source": [
    "@simple_decorator\n",
    "def say_goodbye():\n",
    "    print(\"Goodbye!\")\n",
    "\n",
    "say_goodbye()\n"
   ]
  },
  {
   "cell_type": "markdown",
   "metadata": {},
   "source": [
    "## Decorators with Parameters\n",
    "Sometimes you might want to pass arguments to your decorators. Here's how you can create a decorator that accepts parameters."
   ]
  },
  {
   "cell_type": "code",
   "execution_count": 3,
   "metadata": {},
   "outputs": [
    {
     "name": "stdout",
     "output_type": "stream",
     "text": [
      "Hello Alice\n",
      "Hello Alice\n",
      "Hello Alice\n"
     ]
    }
   ],
   "source": [
    "def repeat(num_times):\n",
    "    def decorator_repeat(func):\n",
    "        def wrapper(*args, **kwargs):\n",
    "            for _ in range(num_times):\n",
    "                result = func(*args, **kwargs)\n",
    "            return result\n",
    "        return wrapper\n",
    "    return decorator_repeat\n",
    "\n",
    "@repeat(num_times=3)\n",
    "def greet(name):\n",
    "    print(f\"Hello {name}\")\n",
    "\n",
    "greet(\"Alice\")"
   ]
  },
  {
   "cell_type": "markdown",
   "metadata": {},
   "source": [
    "## Using Decorators for Memoization\n",
    "One practical use of decorators is memoization, which stores the results of expensive function calls and returns the cached result when the same inputs occur again."
   ]
  },
  {
   "cell_type": "code",
   "execution_count": 4,
   "metadata": {},
   "outputs": [
    {
     "name": "stdout",
     "output_type": "stream",
     "text": [
      "55\n"
     ]
    }
   ],
   "source": [
    "def memoize(func):\n",
    "    cache = {}\n",
    "    def wrapper(*args):\n",
    "        if args in cache:\n",
    "            return cache[args]\n",
    "        else:\n",
    "            result = func(*args)\n",
    "            cache[args] = result\n",
    "            return result\n",
    "    return wrapper\n",
    "\n",
    "@memoize\n",
    "def fibonacci(n):\n",
    "    if n < 2:\n",
    "        return n\n",
    "    return fibonacci(n-1) + fibonacci(n-2)\n",
    "\n",
    "# Calculate and print fibonacci numbers\n",
    "print(fibonacci(10))\n"
   ]
  },
  {
   "cell_type": "markdown",
   "metadata": {},
   "source": [
    "## Logging\n",
    "Decorators can be used to add logging functionality to functions, which can help in debugging and monitoring the behavior of functions by logging entry, exit, and important events within the function."
   ]
  },
  {
   "cell_type": "code",
   "execution_count": 6,
   "metadata": {},
   "outputs": [
    {
     "name": "stdout",
     "output_type": "stream",
     "text": [
      "Function add was called\n",
      "Function add returned 8\n"
     ]
    },
    {
     "data": {
      "text/plain": [
       "8"
      ]
     },
     "execution_count": 6,
     "metadata": {},
     "output_type": "execute_result"
    }
   ],
   "source": [
    "def log(func):\n",
    "    def wrapper(*args, **kwargs):\n",
    "        print(f\"Function {func.__name__} was called\")\n",
    "        result = func(*args, **kwargs)\n",
    "        print(f\"Function {func.__name__} returned {result}\")\n",
    "        return result\n",
    "    return wrapper\n",
    "\n",
    "@log\n",
    "def add(x, y):\n",
    "    return x + y\n",
    "\n",
    "add(5, 3)\n"
   ]
  },
  {
   "cell_type": "markdown",
   "metadata": {},
   "source": [
    "## Performance Monitoring\n",
    "You can use decorators to measure the execution time of functions, which is useful for profiling and optimization."
   ]
  },
  {
   "cell_type": "code",
   "execution_count": 7,
   "metadata": {},
   "outputs": [
    {
     "name": "stdout",
     "output_type": "stream",
     "text": [
      "Executing slow_function took 2.007404327392578 seconds\n"
     ]
    }
   ],
   "source": [
    "import time\n",
    "\n",
    "def timer(func):\n",
    "    def wrapper(*args, **kwargs):\n",
    "        start_time = time.time()\n",
    "        result = func(*args, **kwargs)\n",
    "        end_time = time.time()\n",
    "        print(f\"Executing {func.__name__} took {end_time - start_time} seconds\")\n",
    "        return result\n",
    "    return wrapper\n",
    "\n",
    "@timer\n",
    "def slow_function(delay_time):\n",
    "    time.sleep(delay_time)\n",
    "\n",
    "slow_function(2)\n"
   ]
  },
  {
   "cell_type": "markdown",
   "metadata": {},
   "source": [
    "## Access Control\n",
    "Decorators can enforce rules about who can call certain functions, typically used in web applications to ensure that only authenticated users can access certain endpoints."
   ]
  },
  {
   "cell_type": "code",
   "execution_count": 8,
   "metadata": {},
   "outputs": [
    {
     "name": "stdout",
     "output_type": "stream",
     "text": [
      "Access granted to sensitive data\n"
     ]
    }
   ],
   "source": [
    "def requires_auth(func):\n",
    "    def wrapper(*args, **kwargs):\n",
    "        if not kwargs.get('user_authenticated'):\n",
    "            raise Exception(\"Authentication required\")\n",
    "        return func(*args, **kwargs)\n",
    "    return wrapper\n",
    "\n",
    "@requires_auth\n",
    "def sensitive_function(*args, **kwargs):\n",
    "    print(\"Access granted to sensitive data\")\n",
    "\n",
    "sensitive_function(user_authenticated=True)\n"
   ]
  },
  {
   "cell_type": "markdown",
   "metadata": {},
   "source": [
    "## Input Validation\n",
    "Use decorators to validate the inputs to a function to ensure they meet certain criteria before the function executes."
   ]
  },
  {
   "cell_type": "code",
   "execution_count": 11,
   "metadata": {},
   "outputs": [
    {
     "ename": "ValueError",
     "evalue": "Both x and y need to be integers",
     "output_type": "error",
     "traceback": [
      "\u001b[1;31m---------------------------------------------------------------------------\u001b[0m",
      "\u001b[1;31mValueError\u001b[0m                                Traceback (most recent call last)",
      "Cell \u001b[1;32mIn[11], line 12\u001b[0m\n\u001b[0;32m      8\u001b[0m \u001b[38;5;129m@validate_input\u001b[39m\n\u001b[0;32m      9\u001b[0m \u001b[38;5;28;01mdef\u001b[39;00m \u001b[38;5;21mmultiply\u001b[39m(x, y):\n\u001b[0;32m     10\u001b[0m     \u001b[38;5;28;01mreturn\u001b[39;00m x \u001b[38;5;241m*\u001b[39m y\n\u001b[1;32m---> 12\u001b[0m \u001b[43mmultiply\u001b[49m\u001b[43m(\u001b[49m\u001b[38;5;241;43m2\u001b[39;49m\u001b[43m,\u001b[49m\u001b[43m \u001b[49m\u001b[38;5;124;43m\"\u001b[39;49m\u001b[38;5;124;43m3\u001b[39;49m\u001b[38;5;124;43m\"\u001b[39;49m\u001b[43m)\u001b[49m  \u001b[38;5;66;03m# This will raise an error\u001b[39;00m\n",
      "Cell \u001b[1;32mIn[11], line 4\u001b[0m, in \u001b[0;36mvalidate_input.<locals>.wrapper\u001b[1;34m(x, y)\u001b[0m\n\u001b[0;32m      2\u001b[0m \u001b[38;5;28;01mdef\u001b[39;00m \u001b[38;5;21mwrapper\u001b[39m(x, y):\n\u001b[0;32m      3\u001b[0m     \u001b[38;5;28;01mif\u001b[39;00m \u001b[38;5;129;01mnot\u001b[39;00m \u001b[38;5;28misinstance\u001b[39m(x, \u001b[38;5;28mint\u001b[39m) \u001b[38;5;129;01mor\u001b[39;00m \u001b[38;5;129;01mnot\u001b[39;00m \u001b[38;5;28misinstance\u001b[39m(y, \u001b[38;5;28mint\u001b[39m):\n\u001b[1;32m----> 4\u001b[0m         \u001b[38;5;28;01mraise\u001b[39;00m \u001b[38;5;167;01mValueError\u001b[39;00m(\u001b[38;5;124m\"\u001b[39m\u001b[38;5;124mBoth x and y need to be integers\u001b[39m\u001b[38;5;124m\"\u001b[39m)\n\u001b[0;32m      5\u001b[0m     \u001b[38;5;28;01mreturn\u001b[39;00m func(x, y)\n",
      "\u001b[1;31mValueError\u001b[0m: Both x and y need to be integers"
     ]
    }
   ],
   "source": [
    "def validate_input(func):\n",
    "    def wrapper(x, y):\n",
    "        if not isinstance(x, int) or not isinstance(y, int):\n",
    "            raise ValueError(\"Both x and y need to be integers\")\n",
    "        return func(x, y)\n",
    "    return wrapper\n",
    "\n",
    "@validate_input\n",
    "def multiply(x, y):\n",
    "    return x * y\n",
    "\n",
    "multiply(2, \"3\")  # This will raise an error\n"
   ]
  },
  {
   "cell_type": "markdown",
   "metadata": {},
   "source": [
    "## Caching Results\n",
    "Similar to memoization but for more complex caching logic that might involve caching to files or databases for later retrieval."
   ]
  },
  {
   "cell_type": "markdown",
   "metadata": {},
   "source": [
    "Caching is a technique used to store data temporarily in a storage location known as a cache so that future requests for that data can be served faster. The data stored in a cache might be the result of an earlier computation or a duplicate of data stored elsewhere. Caching is commonly used to optimize the performance of applications by reducing the time taken to access data or compute results that are expensive (in terms of time or resources) to obtain.\n",
    "\n",
    "Why Use Caching?\n",
    "Performance Improvement: Reduces the time to fetch data by avoiding repeated calculations or database queries.\n",
    "Reduced Latency: Provides faster data retrieval, which is critical for performance-sensitive applications.\n",
    "Cost Efficiency: Reduces the number of calls to external services or databases, which can lower costs in scenarios where these services charge based on usage."
   ]
  },
  {
   "cell_type": "code",
   "execution_count": 12,
   "metadata": {},
   "outputs": [
    {
     "name": "stdout",
     "output_type": "stream",
     "text": [
      "16\n",
      "Returning cached result\n",
      "16\n"
     ]
    }
   ],
   "source": [
    "def cache_results(func):\n",
    "    cache = {}\n",
    "    def wrapper(*args):\n",
    "        if args in cache:\n",
    "            print(\"Returning cached result\")\n",
    "            return cache[args]\n",
    "        else:\n",
    "            result = func(*args)\n",
    "            cache[args] = result\n",
    "            return result\n",
    "    return wrapper\n",
    "\n",
    "@cache_results\n",
    "def compute_expensive(x):\n",
    "    time.sleep(2)  # Simulating a time-consuming operation\n",
    "    return x * x\n",
    "\n",
    "print(compute_expensive(4))\n",
    "print(compute_expensive(4))  # This will return the cached result\n"
   ]
  },
  {
   "cell_type": "markdown",
   "metadata": {},
   "source": [
    "## Event Handling\n",
    "Decorators can be used to register functions as handlers for certain events, which is common in frameworks and libraries that handle different kinds of hooks."
   ]
  },
  {
   "cell_type": "markdown",
   "metadata": {},
   "source": [
    "Event handling is a programming paradigm where certain functions (known as event handlers) are automatically invoked in response to specific events occurring within a software system. Events can be anything of interest (like mouse clicks, keypresses, sensor outputs, or custom triggers in software).\n",
    "\n",
    "Benefits of Event Handling:\n",
    "Decoupling: The event producer (e.g., a button click) does not need to know about what actions to perform. It just triggers events. The handlers that listen to the event act accordingly, which separates the concerns of event generation and event handling.\n",
    "Flexibility: New handlers can be added or removed without modifying the core logic of the application, making it easier to extend and maintain.\n",
    "Asynchronous Processing: Event handling often works asynchronously, allowing the main application flow to continue without waiting for all handlers to complete."
   ]
  },
  {
   "cell_type": "code",
   "execution_count": 13,
   "metadata": {},
   "outputs": [
    {
     "name": "stdout",
     "output_type": "stream",
     "text": [
      "Performing initial setup.\n",
      "Cleaning up resources.\n"
     ]
    }
   ],
   "source": [
    "event_handlers = {}\n",
    "\n",
    "def on_event(event_name):\n",
    "    def decorator(func):\n",
    "        if event_name not in event_handlers:\n",
    "            event_handlers[event_name] = []\n",
    "        event_handlers[event_name].append(func)\n",
    "        return func\n",
    "    return decorator\n",
    "\n",
    "@on_event('startup')\n",
    "def initial_setup():\n",
    "    print(\"Performing initial setup.\")\n",
    "\n",
    "@on_event('shutdown')\n",
    "def cleanup():\n",
    "    print(\"Cleaning up resources.\")\n",
    "\n",
    "# Triggering events\n",
    "for func in event_handlers['startup']:\n",
    "    func()\n",
    "\n",
    "for func in event_handlers['shutdown']:\n",
    "    func()"
   ]
  },
  {
   "cell_type": "markdown",
   "metadata": {},
   "source": [
    "## Conclusion\n",
    "Decorators are a very powerful feature in Python that can significantly simplify and enhance your code, especially when dealing with cross-cutting concerns like logging, authorization, or performance enhancements.\n",
    "\n",
    "Feel free to experiment with different types of decorators to get a better understanding of their potential!"
   ]
  }
 ],
 "metadata": {
  "kernelspec": {
   "display_name": "CodeCollabHub",
   "language": "python",
   "name": "python3"
  },
  "language_info": {
   "codemirror_mode": {
    "name": "ipython",
    "version": 3
   },
   "file_extension": ".py",
   "mimetype": "text/x-python",
   "name": "python",
   "nbconvert_exporter": "python",
   "pygments_lexer": "ipython3",
   "version": "3.10.15"
  }
 },
 "nbformat": 4,
 "nbformat_minor": 2
}
