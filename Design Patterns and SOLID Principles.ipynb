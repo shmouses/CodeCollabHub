{
 "cells": [
  {
   "cell_type": "markdown",
   "metadata": {},
   "source": [
    "# Object-Oriented Programming (OOP) in Python: Design modular and reusable code"
   ]
  },
  {
   "cell_type": "markdown",
   "metadata": {},
   "source": [
    "## Design Patterns: Reusable solutions to common problems"
   ]
  },
  {
   "cell_type": "markdown",
   "metadata": {},
   "source": [
    "Design patterns are like blueprints or templates for solving common problems that arise in software design. Instead of reinventing the wheel every time you encounter a recurring issue, you can use these proven strategies to write cleaner, more efficient, and more maintainable code.\n",
    "\n",
    "Key Points:\n",
    "\n",
    "Reusable Solutions:\n",
    "They offer a set of best practices that have been refined over time. Once you understand a pattern, you can apply it to multiple projects, saving development time.\n",
    "\n",
    "Guidelines, Not Code:\n",
    "Design patterns are abstract solutions. They aren’t complete code but provide a structured approach that you can adapt to your specific needs."
   ]
  },
  {
   "cell_type": "markdown",
   "metadata": {},
   "source": [
    "## Example 1 :The Singleton Pattern ensures a class has only one instance (useful for configurations or logging)."
   ]
  },
  {
   "cell_type": "code",
   "execution_count": 1,
   "metadata": {},
   "outputs": [
    {
     "name": "stdout",
     "output_type": "stream",
     "text": [
      "True\n"
     ]
    }
   ],
   "source": [
    "# Define a metaclass that enforces the Singleton behavior\n",
    "class SingletonMeta(type):\n",
    "    _instances = {}  # Dictionary to hold the single instance of each class\n",
    "    \n",
    "    def __call__(cls, *args, **kwargs):\n",
    "        if cls not in cls._instances:\n",
    "            # Create a new instance if one doesn't exist\n",
    "            cls._instances[cls] = super().__call__(*args, **kwargs)\n",
    "        return cls._instances[cls]\n",
    "\n",
    "# Use the metaclass in a Logger class\n",
    "class Logger(metaclass=SingletonMeta):\n",
    "    def log(self, message):\n",
    "        print(f\"Log: {message}\")\n",
    "\n",
    "# Testing the Singleton behavior\n",
    "logger1 = Logger()\n",
    "logger2 = Logger()\n",
    "\n",
    "print(logger1 is logger2)  # This will output: True\n"
   ]
  },
  {
   "cell_type": "markdown",
   "metadata": {},
   "source": [
    "#### The SingletonMeta metaclass keeps track of instances in a dictionary _instances.\n",
    "#### When you try to create a new Logger instance, the metaclass checks if an instance already exists.\n",
    "#### If it does, it returns the existing instance instead of creating a new one.\n",
    "#### The test logger1 is logger2 confirms that both variables reference the same instance.\n",
    "#### This pattern is useful when you need a single point of control, such as a logging system or a configuration manager."
   ]
  },
  {
   "cell_type": "markdown",
   "metadata": {},
   "source": [
    "## Example 2: The Observer Pattern helps in building systems where one change triggers updates to multiple components (like in event-driven programming)"
   ]
  },
  {
   "cell_type": "code",
   "execution_count": 2,
   "metadata": {},
   "outputs": [
    {
     "name": "stdout",
     "output_type": "stream",
     "text": [
      "ConcreteObserverA received: Hello, Observers!\n",
      "ConcreteObserverB received: Hello, Observers!\n"
     ]
    }
   ],
   "source": [
    "# Subject class that holds a list of observers and notifies them of changes.\n",
    "class Subject:\n",
    "    def __init__(self):\n",
    "        self._observers = []\n",
    "\n",
    "    def attach(self, observer):\n",
    "        self._observers.append(observer)\n",
    "\n",
    "    def detach(self, observer):\n",
    "        self._observers.remove(observer)\n",
    "\n",
    "    def notify(self, message):\n",
    "        for observer in self._observers:\n",
    "            observer.update(message)\n",
    "\n",
    "# Base Observer class with an update method that each concrete observer must implement.\n",
    "class Observer:\n",
    "    def update(self, message):\n",
    "        raise NotImplementedError(\"Subclasses must implement this method\")\n",
    "\n",
    "# Concrete Observer A that implements the update method.\n",
    "class ConcreteObserverA(Observer):\n",
    "    def update(self, message):\n",
    "        print(\"ConcreteObserverA received:\", message)\n",
    "\n",
    "# Concrete Observer B that implements the update method.\n",
    "class ConcreteObserverB(Observer):\n",
    "    def update(self, message):\n",
    "        print(\"ConcreteObserverB received:\", message)\n",
    "\n",
    "# Example usage:\n",
    "subject = Subject()\n",
    "observer_a = ConcreteObserverA()\n",
    "observer_b = ConcreteObserverB()\n",
    "\n",
    "# Attach observers to the subject.\n",
    "subject.attach(observer_a)\n",
    "subject.attach(observer_b)\n",
    "\n",
    "# Notify all observers about an event.\n",
    "subject.notify(\"Hello, Observers!\")"
   ]
  },
  {
   "cell_type": "markdown",
   "metadata": {},
   "source": [
    "## SOLID Principles: Guidelines for maintainable OOP design\n"
   ]
  },
  {
   "cell_type": "markdown",
   "metadata": {},
   "source": [
    "The SOLID principles are a set of five guidelines that help you design maintainable and scalable object-oriented systems. They encourage you to write code that's easy to understand, extend, and modify over time. Here’s what each letter stands for:\n",
    "\n",
    "S – Single Responsibility Principle (SRP):\n",
    "A class should have only one reason to change, meaning it should only have one job or responsibility. This minimizes the impact of changes and keeps classes focused and simple."
   ]
  },
  {
   "cell_type": "code",
   "execution_count": 4,
   "metadata": {},
   "outputs": [
    {
     "name": "stdout",
     "output_type": "stream",
     "text": [
      "Pay stub for Alice: 1200.0\n"
     ]
    }
   ],
   "source": [
    "# Without SRP: One class handling both pay calculation and pay stub generation.\n",
    "class Employee:\n",
    "    def __init__(self, name, salary):\n",
    "        self.name = name\n",
    "        self.salary = salary\n",
    "    \n",
    "    def calculate_pay(self):\n",
    "        return self.salary * 1.2  # Example calculation including bonus\n",
    "    \n",
    "    def generate_pay_stub(self):\n",
    "        pay = self.calculate_pay()\n",
    "        return f\"Pay stub for {self.name}: {pay}\"\n",
    "\n",
    "# With SRP: Responsibilities are split into two focused classes.\n",
    "class PayCalculator:\n",
    "    def calculate_pay(self, salary):\n",
    "        return salary * 1.2\n",
    "\n",
    "class PayStubGenerator:\n",
    "    def generate_pay_stub(self, name, pay):\n",
    "        return f\"Pay stub for {name}: {pay}\"\n",
    "\n",
    "# Usage:\n",
    "salary = 1000\n",
    "calculator = PayCalculator()\n",
    "stub_generator = PayStubGenerator()\n",
    "\n",
    "pay = calculator.calculate_pay(salary)\n",
    "print(stub_generator.generate_pay_stub(\"Alice\", pay))\n"
   ]
  },
  {
   "cell_type": "markdown",
   "metadata": {},
   "source": [
    "O – Open/Closed Principle (OCP):\n",
    "Software entities (classes, modules, functions) should be open for extension but closed for modification. You should be able to add new functionality without altering the existing code, usually by leveraging inheritance or composition.\n"
   ]
  },
  {
   "cell_type": "code",
   "execution_count": 10,
   "metadata": {},
   "outputs": [
    {
     "name": "stdout",
     "output_type": "stream",
     "text": [
      "Total area: 90.53750000000001\n"
     ]
    }
   ],
   "source": [
    "from abc import ABC, abstractmethod\n",
    "\n",
    "# Base class for shapes; this class is closed for modification.\n",
    "class Shape(ABC):\n",
    "    @abstractmethod\n",
    "    def area(self):\n",
    "        pass\n",
    "\n",
    "# New shapes can be added by extending the base class.\n",
    "class Rectangle(Shape):\n",
    "    def __init__(self, width, height):\n",
    "        self.width = width\n",
    "        self.height = height\n",
    "    \n",
    "    def area(self):\n",
    "        return self.width * self.height\n",
    "\n",
    "class Circle(Shape):\n",
    "    def __init__(self, radius):\n",
    "        self.radius = radius\n",
    "    \n",
    "    def area(self):\n",
    "        return 3.1415 * (self.radius ** 2)\n",
    "\n",
    "# Function to calculate total area works for all shapes.\n",
    "def total_area(shapes):\n",
    "    return sum(shape.area() for shape in shapes)\n",
    "\n",
    "# Usage:\n",
    "shapes = [Rectangle(3, 4), Circle(5)]\n",
    "print(\"Total area:\", total_area(shapes))\n"
   ]
  },
  {
   "cell_type": "markdown",
   "metadata": {},
   "source": [
    "\n",
    "L – Liskov Substitution Principle (LSP):\n",
    "Subclasses should be replaceable with their base classes without altering the correctness of the program. Essentially, objects of a superclass should be able to be replaced with objects of a subclass without unexpected side effects.\n",
    "\n"
   ]
  },
  {
   "cell_type": "code",
   "execution_count": 6,
   "metadata": {},
   "outputs": [
    {
     "name": "stdout",
     "output_type": "stream",
     "text": [
      "Processing credit card payment of 100\n",
      "Processing PayPal payment of 200\n"
     ]
    }
   ],
   "source": [
    "from abc import ABC, abstractmethod\n",
    "\n",
    "# Base class representing a payment processor.\n",
    "class PaymentProcessor(ABC):\n",
    "    @abstractmethod\n",
    "    def process_payment(self, amount):\n",
    "        pass\n",
    "\n",
    "# Subclasses provide concrete implementations.\n",
    "class CreditCardProcessor(PaymentProcessor):\n",
    "    def process_payment(self, amount):\n",
    "        return f\"Processing credit card payment of {amount}\"\n",
    "\n",
    "class PaypalProcessor(PaymentProcessor):\n",
    "    def process_payment(self, amount):\n",
    "        return f\"Processing PayPal payment of {amount}\"\n",
    "\n",
    "# A function that works with any PaymentProcessor.\n",
    "def process_order(processor: PaymentProcessor, amount):\n",
    "    print(processor.process_payment(amount))\n",
    "\n",
    "# Usage:\n",
    "process_order(CreditCardProcessor(), 100)\n",
    "process_order(PaypalProcessor(), 200)\n"
   ]
  },
  {
   "cell_type": "markdown",
   "metadata": {},
   "source": [
    "I – Interface Segregation Principle (ISP):\n",
    "Clients should not be forced to depend on interfaces they do not use. It’s better to have many small, specific interfaces rather than a single, large, general-purpose one.\n",
    "\n"
   ]
  },
  {
   "cell_type": "code",
   "execution_count": 7,
   "metadata": {},
   "outputs": [
    {
     "name": "stdout",
     "output_type": "stream",
     "text": [
      "Printing: My Document\n",
      "Scanning: My Document\n",
      "Simple printing: Another Document\n"
     ]
    }
   ],
   "source": [
    "from abc import ABC, abstractmethod\n",
    "\n",
    "# Define small, focused interfaces.\n",
    "class Printer(ABC):\n",
    "    @abstractmethod\n",
    "    def print_document(self, document):\n",
    "        pass\n",
    "\n",
    "class Scanner(ABC):\n",
    "    @abstractmethod\n",
    "    def scan_document(self, document):\n",
    "        pass\n",
    "\n",
    "# A multifunction device that implements both.\n",
    "class MultiFunctionPrinter(Printer, Scanner):\n",
    "    def print_document(self, document):\n",
    "        print(\"Printing:\", document)\n",
    "    \n",
    "    def scan_document(self, document):\n",
    "        print(\"Scanning:\", document)\n",
    "\n",
    "# A simple printer that only supports printing.\n",
    "class SimplePrinter(Printer):\n",
    "    def print_document(self, document):\n",
    "        print(\"Simple printing:\", document)\n",
    "\n",
    "# Usage:\n",
    "mfp = MultiFunctionPrinter()\n",
    "mfp.print_document(\"My Document\")\n",
    "mfp.scan_document(\"My Document\")\n",
    "\n",
    "simple_printer = SimplePrinter()\n",
    "simple_printer.print_document(\"Another Document\")\n"
   ]
  },
  {
   "cell_type": "markdown",
   "metadata": {},
   "source": [
    "D – Dependency Inversion Principle (DIP):\n",
    "High-level modules should not depend on low-level modules; both should depend on abstractions (e.g., interfaces). This decouples components and makes the system more modular and testable."
   ]
  },
  {
   "cell_type": "code",
   "execution_count": 8,
   "metadata": {},
   "outputs": [
    {
     "name": "stdout",
     "output_type": "stream",
     "text": [
      "Connecting to MySQL database\n",
      "Application running\n"
     ]
    }
   ],
   "source": [
    "from abc import ABC, abstractmethod\n",
    "\n",
    "# Define an abstraction for a database.\n",
    "class Database(ABC):\n",
    "    @abstractmethod\n",
    "    def connect(self):\n",
    "        pass\n",
    "\n",
    "# Concrete implementation of the abstraction.\n",
    "class MySQLDatabase(Database):\n",
    "    def connect(self):\n",
    "        print(\"Connecting to MySQL database\")\n",
    "\n",
    "# High-level module that depends on the abstraction, not a concrete implementation.\n",
    "class Application:\n",
    "    def __init__(self, database: Database):\n",
    "        self.database = database\n",
    "    \n",
    "    def run(self):\n",
    "        self.database.connect()\n",
    "        print(\"Application running\")\n",
    "\n",
    "# Usage:\n",
    "mysql_db = MySQLDatabase()\n",
    "app = Application(mysql_db)\n",
    "app.run()\n"
   ]
  },
  {
   "cell_type": "code",
   "execution_count": null,
   "metadata": {},
   "outputs": [],
   "source": []
  },
  {
   "cell_type": "code",
   "execution_count": null,
   "metadata": {},
   "outputs": [],
   "source": []
  }
 ],
 "metadata": {
  "kernelspec": {
   "display_name": "autoeis",
   "language": "python",
   "name": "python3"
  },
  "language_info": {
   "codemirror_mode": {
    "name": "ipython",
    "version": 3
   },
   "file_extension": ".py",
   "mimetype": "text/x-python",
   "name": "python",
   "nbconvert_exporter": "python",
   "pygments_lexer": "ipython3",
   "version": "3.10.11"
  }
 },
 "nbformat": 4,
 "nbformat_minor": 2
}
