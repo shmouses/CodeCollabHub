{
 "cells": [
  {
   "cell_type": "markdown",
   "id": "a34fcb1c",
   "metadata": {},
   "source": [
    "# Introduction to Asynchronous Programming\n",
    "Asynchronous programming allows you to write code that can perform multiple operations at the same time. In Python, this is often facilitated through the `asyncio` library, which is built into the Python standard library. This approach is particularly useful in scenarios where tasks are IO-bound or when performing high-latency operations."
   ]
  },
  {
   "cell_type": "markdown",
   "id": "6e5ce219",
   "metadata": {},
   "source": [
    "## Basic Asyncio Concepts\n",
    "`asyncio` is a library to write concurrent code using the async/await syntax. An event loop is the central execution device provided by `asyncio`. This loop is capable of running asynchronous tasks and callbacks, performing network IO operations, and running subprocesses."
   ]
  },
  {
   "cell_type": "markdown",
   "id": "d2fdfcd5",
   "metadata": {},
   "source": [
    "## Setting Up an Async Environment\n",
    "To utilize `asyncio`, you need to establish an environment that supports asynchronous execution. Here's how to set up a basic async environment in Python:"
   ]
  },
  {
   "cell_type": "code",
   "execution_count": 6,
   "id": "a4e218b2-ce44-4f99-bb36-6fed3b7b3399",
   "metadata": {},
   "outputs": [
    {
     "name": "stdout",
     "output_type": "stream",
     "text": [
      "Hello, asyncio!\n"
     ]
    }
   ],
   "source": [
    "# Import the asyncio library, which is used to write concurrent code using the async/await syntax in Python.\n",
    "import asyncio\n",
    "\n",
    "# Import the nest_asyncio module. This module patches asyncio to allow nested use of asyncio.run and related functions.\n",
    "import nest_asyncio\n",
    "\n",
    "# Apply the patch with nest_asyncio.apply(). This is necessary in environments like Jupyter notebooks where an event loop\n",
    "# may already be running in the background. Without this patch, you would typically encounter a 'RuntimeError: This event \n",
    "# loop is already running' when trying to use asyncio.run().\n",
    "nest_asyncio.apply()\n",
    "\n",
    "# Define an asynchronous function named 'main'. Asynchronous functions are defined using 'async def' and can contain\n",
    "# 'await' expressions.\n",
    "async def main():\n",
    "    # Print a greeting message to the console. This is a simple operation within the async function.\n",
    "    print(\"Hello, asyncio!\")\n",
    "\n",
    "# Now that the environment is set up to handle it, use asyncio.run() to execute the main() function.\n",
    "# asyncio.run() is used to run the top-level entry point “main” function and only takes a coroutine. It handles all the \n",
    "# event loop management such as opening and closing the loop, thus simplifying asyncio usage for basic scripts.\n",
    "# It should not be used when an event loop is already running or for creating multiple event loops in an application.\n",
    "asyncio.run(main())\n"
   ]
  },
  {
   "cell_type": "markdown",
   "id": "501c6e23",
   "metadata": {},
   "source": [
    "## Simple Async Examples\n",
    "Let's create a simple example to illustrate how asynchronous functions are defined and called in Python using `asyncio`."
   ]
  },
  {
   "cell_type": "code",
   "execution_count": 5,
   "id": "133dc7bc-b269-4075-86ac-7a4b629b0f3b",
   "metadata": {},
   "outputs": [
    {
     "name": "stdout",
     "output_type": "stream",
     "text": [
      "Fetching data...\n",
      "Data fetched!\n"
     ]
    }
   ],
   "source": [
    "# Define an asynchronous function named 'fetch_data' that accepts a URL as a parameter.\n",
    "async def fetch_data(url):\n",
    "    # Print a message indicating the start of data fetching from the specified URL.\n",
    "    print(f\"Starting to fetch data from {url}\")\n",
    "    \n",
    "    # 'await asyncio.sleep(1)' pauses this coroutine, allowing the event loop to run other tasks\n",
    "    # (such as starting another instance of 'fetch_data' for the next URL if not already started).\n",
    "    # This simulates a delay of 1 second, like waiting for a network response, but does not block other tasks.\n",
    "    await asyncio.sleep(1)  # Simulate a delay for fetching data\n",
    "    \n",
    "    # This line is executed after the sleep has finished. By this time, other coroutines might have started or even finished.\n",
    "    print(f\"Data fetched from {url}\")\n",
    "\n",
    "# A list of URLs from which data will be fetched. These could be API endpoints or any other URLs.\n",
    "urls = [\"http://example.com/api/data1\", \"http://example.com/api/data2\"]\n",
    "\n",
    "# Define the 'main' asynchronous function to manage and run tasks.\n",
    "async def main():\n",
    "    # Create a list of tasks. For each URL in the 'urls' list, 'asyncio.create_task()' is called,\n",
    "    # which immediately schedules 'fetch_data(url)' to be run asynchronously.\n",
    "    tasks = [asyncio.create_task(fetch_data(url)) for url in urls]\n",
    "    \n",
    "    # Here, 'asyncio.gather()' is used to wait for all the tasks to complete.\n",
    "    # It allows the event loop to manage all tasks, switching between them whenever one of them is paused (e.g., during 'await').\n",
    "    # Since 'asyncio.sleep(1)' in 'fetch_data' yields control back to the loop, it can start or resume other coroutines in the meantime.\n",
    "    await asyncio.gather(*tasks)\n",
    "\n",
    "# Run the 'main' function, which is the entry point for the asyncio program.\n",
    "# 'asyncio.run()' manages the event loop, which handles all the asynchronous tasks.\n",
    "asyncio.run(main())\n"
   ]
  },
  {
   "cell_type": "markdown",
   "id": "b821cfab-1f52-4f8e-b23c-09620c04189f",
   "metadata": {},
   "source": [
    "In this code:\n",
    "\n",
    "* When fetch_data(url) for \"http://example.com/api/data1\" starts and hits await asyncio.sleep(1), it pauses, and the control is yielded back to the asyncio event loop.\n",
    "* The event loop then checks if there are other tasks ready to run or resume. Since the tasks have been created for each URL and are managed by the event loop, it starts the next available task, which would be fetch_data(url) for \"http://example.com/api/data2\".\n",
    "* If both tasks are in the sleep state, the event loop effectively handles other tasks (if any) or simply waits until the sleep durations expire.\n",
    "* As each task completes its sleep, it resumes execution to complete its remaining work, and all tasks must complete before asyncio.gather() finishes.\n",
    "\n",
    "\n",
    "This model is very efficient for handling I/O-bound operations, such as network requests, because it maximizes the usage of the program's running time, keeping the operation as asynchronous and non-blocking as possible."
   ]
  },
  {
   "cell_type": "markdown",
   "id": "b346d328",
   "metadata": {},
   "source": [
    "## Data Fetching\n",
    "Fetching data asynchronously can greatly improve the performance of your application when dealing with API requests or reading from files. Here's how you can fetch data asynchronously from a mock API."
   ]
  },
  {
   "cell_type": "code",
   "execution_count": 8,
   "id": "4bc454f0-07c4-432e-91ec-df1031444b37",
   "metadata": {},
   "outputs": [
    {
     "name": "stdout",
     "output_type": "stream",
     "text": [
      "Starting to fetch data from http://example.com/api/data1\n",
      "Starting to fetch data from http://example.com/api/data2\n",
      "Data fetched from http://example.com/api/data1\n",
      "Data fetched from http://example.com/api/data2\n"
     ]
    }
   ],
   "source": [
    "# Import the asyncio library which provides support for asynchronous I/O, event loops, coroutines, tasks, and more.\n",
    "import asyncio\n",
    "\n",
    "# Define an asynchronous function 'fetch_data' that takes a URL as an argument.\n",
    "async def fetch_data(url):\n",
    "    # Print a message indicating that data fetching has started for the given URL.\n",
    "    print(f\"Starting to fetch data from {url}\")\n",
    "    \n",
    "    # 'await' suspends execution of the current function (fetch_data),\n",
    "    # allowing the program to execute other tasks while waiting for some I/O operation,\n",
    "    # here simulated as a 1-second sleep.\n",
    "    await asyncio.sleep(1)  # Simulate a delay for fetching data\n",
    "    \n",
    "    # Once the await operation (sleep) is completed after 1 second, execution resumes and prints that the data has been fetched.\n",
    "    print(f\"Data fetched from {url}\")\n",
    "\n",
    "# List of URLs to fetch data from. Each URL represents a distinct data endpoint.\n",
    "urls = [\"http://example.com/api/data1\", \"http://example.com/api/data2\"]\n",
    "\n",
    "# Define the main asynchronous function that manages higher-level tasks.\n",
    "async def main():\n",
    "    # Create a list of task objects by iterating over each URL and creating a new task for each call to fetch_data.\n",
    "    # asyncio.create_task() schedules the execution of a coroutine and immediately returns a Task object.\n",
    "    tasks = [asyncio.create_task(fetch_data(url)) for url in urls]\n",
    "    \n",
    "    # asyncio.gather() is used to schedule the execution of these tasks concurrently.\n",
    "    # It awaits on all provided tasks to complete. The '*' operator unpacks the list into separate arguments.\n",
    "    # This line effectively pauses 'main()' until all 'fetch_data' tasks have completed.\n",
    "    await asyncio.gather(*tasks)\n",
    "\n",
    "# Run the main function using asyncio.run, which creates an event loop and executes the main function within it.\n",
    "# This call also handles cleaning up the event loop after the function completes.\n",
    "asyncio.run(main())\n"
   ]
  },
  {
   "cell_type": "markdown",
   "id": "c95eb6be",
   "metadata": {},
   "source": [
    "## Asynchronous Data Processing\n",
    "Using `asyncio` in data processing can help manage both IO-bound and CPU-bound tasks more efficiently. This example shows how you can process data asynchronously."
   ]
  },
  {
   "cell_type": "code",
   "execution_count": 9,
   "id": "a891aa7a-aa56-47f7-99ae-4683a265b601",
   "metadata": {},
   "outputs": [
    {
     "name": "stdout",
     "output_type": "stream",
     "text": [
      "Processing data...\n",
      "                A          B           C           D\n",
      "count  100.000000  100.00000  100.000000  100.000000\n",
      "mean    52.830000   43.99000   51.240000   53.370000\n",
      "std     27.945493   29.07861   28.470832   28.562055\n",
      "min      0.000000    1.00000    1.000000    0.000000\n",
      "25%     32.750000   18.75000   25.000000   33.500000\n",
      "50%     56.000000   42.00000   53.500000   52.500000\n",
      "75%     73.000000   70.00000   76.250000   77.250000\n",
      "max     98.000000   99.00000   98.000000   99.000000\n"
     ]
    }
   ],
   "source": [
    "# Import necessary libraries. Pandas for data manipulation and analysis, and NumPy for numerical operations.\n",
    "import pandas as pd\n",
    "import numpy as np\n",
    "\n",
    "# Define an asynchronous function 'load_data' which simulates the loading of data asynchronously.\n",
    "async def load_data():\n",
    "    # Await a sleep call to simulate an I/O-bound operation, such as reading data from a file or a database.\n",
    "    # This could represent waiting for data to be read from disk or received over the network.\n",
    "    await asyncio.sleep(2)\n",
    "    \n",
    "    # Return a pandas DataFrame created with random integers between 0 and 100.\n",
    "    # This DataFrame simulates actual data and consists of 100 rows and 4 columns.\n",
    "    return pd.DataFrame(np.random.randint(0, 100, size=(100, 4)), columns=list('ABCD'))\n",
    "\n",
    "# Define another asynchronous function 'process_data' that takes a DataFrame as input and processes it.\n",
    "async def process_data(data):\n",
    "    # Print a message indicating that data processing has started.\n",
    "    print(\"Processing data...\")\n",
    "    \n",
    "    # Await a sleep call to simulate a CPU-bound task, like a complex calculation.\n",
    "    # This could represent time-consuming computations or transformations on the data.\n",
    "    await asyncio.sleep(2)\n",
    "    \n",
    "    # Return the statistical description of the DataFrame, which includes count, mean, std, min, quartiles, and max.\n",
    "    return data.describe()\n",
    "\n",
    "# Define the main coroutine, which orchestrates the loading and processing of data.\n",
    "async def main():\n",
    "    # Await the 'load_data' function to finish and store its result in the variable 'data'.\n",
    "    # This represents receiving the dataset that needs processing.\n",
    "    data = await load_data()\n",
    "    \n",
    "    # Await the 'process_data' function with the loaded data and store its result in the variable 'result'.\n",
    "    # This represents the processed data being ready for further use or analysis.\n",
    "    result = await process_data(data)\n",
    "    \n",
    "    # Print the processed data's descriptive statistics to the console.\n",
    "    print(result)\n",
    "\n",
    "# Start the event loop and run the main coroutine.\n",
    "# 'asyncio.run' manages the creation and destruction of the event loop, ensuring everything executes as expected.\n",
    "asyncio.run(main())\n"
   ]
  },
  {
   "cell_type": "markdown",
   "id": "f670cc6c",
   "metadata": {},
   "source": [
    "## Concurrency in Data Analysis\n",
    "Integrating `asyncio` with libraries like pandas can enhance performance significantly by handling tasks concurrently. Here's an example of using asyncio with pandas for a typical data analysis workflow."
   ]
  },
  {
   "cell_type": "code",
   "execution_count": null,
   "id": "bfbbb25c",
   "metadata": {},
   "outputs": [],
   "source": [
    "# This is a simple async function\n",
    "import asyncio\n",
    "\n",
    "async def hello_async():\n",
    "    await asyncio.sleep(1)\n",
    "    print(\"Hello, Async World!\")\n",
    "\n",
    "# Running the function using asyncio\n",
    "asyncio.run(hello_async())\n"
   ]
  },
  {
   "cell_type": "markdown",
   "id": "1b151f06",
   "metadata": {},
   "source": [
    "# Enhanced Async Features in Python\n",
    "\n",
    "This section introduces a simplified overview of asynchronous features in Python, derived from an extensive tutorial and practical examples that make the concept more accessible."
   ]
  },
  {
   "cell_type": "markdown",
   "id": "04e023d2",
   "metadata": {},
   "source": [
    "## Understanding Asynchronous vs. Synchronous Programming\n",
    "\n",
    "Asynchronous programming allows a program to handle multiple operations at once rather than waiting for a task to complete before moving on to the next one. This is useful for IO-bound tasks where the program can perform other operations while waiting for IO operations to complete, such as web requests or file reads/writes."
   ]
  },
  {
   "cell_type": "markdown",
   "id": "d6bf07b4",
   "metadata": {},
   "source": [
    "## Practical Examples of Asyncio in Python\n",
    "\n",
    "Here are some practical examples demonstrating basic asyncio usage in Python, focusing on tasks and the event loop."
   ]
  },
  {
   "cell_type": "code",
   "execution_count": 10,
   "id": "a13de1dd-b653-483e-893b-33843adea187",
   "metadata": {},
   "outputs": [
    {
     "name": "stdout",
     "output_type": "stream",
     "text": [
      "Start of basic example\n",
      "End of basic example\n"
     ]
    }
   ],
   "source": [
    "# Import the asyncio module, which is used to write concurrent code using the async/await syntax.\n",
    "import asyncio\n",
    "\n",
    "# Define an asynchronous function named 'basic_async_example'. Asynchronous functions are defined using 'async def',\n",
    "# and they enable the function to use 'await' for asynchronous operations.\n",
    "async def basic_async_example():\n",
    "    # Print a statement indicating the start of an operation, useful for tracking the progress of the code.\n",
    "    print('Start of basic example')\n",
    "    \n",
    "    # Use 'await' to pause the execution of the current coroutine, allowing the event loop to run other tasks.\n",
    "    # 'asyncio.sleep(1)' simulates a pause or delay for 1 second, mimicking an I/O operation like reading from a file or a network request.\n",
    "    # This is a non-blocking call, meaning it does not block the execution of other asynchronous tasks in the event loop.\n",
    "    await asyncio.sleep(1)\n",
    "    \n",
    "    # After the 1-second delay, the execution resumes and the following print statement is executed.\n",
    "    # This indicates the end of the example.\n",
    "    print('End of basic example')\n",
    "\n",
    "# 'asyncio.run()' is used to run the top-level coroutine, here 'basic_async_example'.\n",
    "# It creates an event loop, runs the passed coroutine to completion, and closes the loop.\n",
    "# This is the preferred way to run a complete asynchronous program.\n",
    "asyncio.run(basic_async_example())\n"
   ]
  },
  {
   "cell_type": "markdown",
   "id": "40a5d517",
   "metadata": {},
   "source": [
    "## Async Event Loop and Task Creation\n",
    "\n",
    "The event loop is the core of asyncio's architecture, handling the execution of multiple tasks. Here’s how you can create and manage async tasks in Python:"
   ]
  },
  {
   "cell_type": "code",
   "execution_count": 7,
   "id": "aad7eb00-0886-4d00-b50f-4ae594f9d7c6",
   "metadata": {},
   "outputs": [
    {
     "name": "stdout",
     "output_type": "stream",
     "text": [
      "Task 1 started..\n",
      "Task 2 started..\n",
      "Task 3 started..\n",
      "Task 3 Ended\n",
      "Task 1 Ended\n",
      "Task 2 Ended\n",
      "All tasks completed.\n"
     ]
    }
   ],
   "source": [
    "# Import the asyncio module, which provides support for writing concurrent code using coroutines, multiplexing I/O access, etc.\n",
    "import asyncio\n",
    "\n",
    "# Define the first asynchronous function 'task1'.\n",
    "async def task1():\n",
    "    # Print a message indicating the start of task 1.\n",
    "    print(\"Task 1 started..\")\n",
    "    # The await keyword is used to pause the execution of task1 while waiting for the asyncio.sleep(2) to complete.\n",
    "    # This simulates a delay of 2 seconds, perhaps mimicking some I/O operation or long-running computation.\n",
    "    await asyncio.sleep(2)\n",
    "    # After the sleep completes, print a message indicating the end of task 1.\n",
    "    print(\"Task 1 Ended\")\n",
    "\n",
    "# Define the second asynchronous function 'task2'.\n",
    "async def task2():\n",
    "    # Similar to task1, print a message at the start.\n",
    "    print(\"Task 2 started..\")\n",
    "    # Pause the execution of task2 for 3 seconds. This represents a longer operation compared to task1.\n",
    "    await asyncio.sleep(3)\n",
    "    # Once the sleep is over, indicate the end of task 2.\n",
    "    print(\"Task 2 Ended\")\n",
    "\n",
    "# Define the third asynchronous function 'task3'.\n",
    "async def task3():\n",
    "    # Announce the start of task 3.\n",
    "    print(\"Task 3 started..\")\n",
    "    # Pause the execution of task3 for 1 second, the shortest wait time among the three tasks.\n",
    "    await asyncio.sleep(1)\n",
    "    # Mark the completion of task 3.\n",
    "    print(\"Task 3 Ended\")\n",
    "\n",
    "# Define a function 'run_tasks' to manage and run the defined tasks concurrently.\n",
    "async def run_tasks():\n",
    "    # asyncio.gather() is used to run multiple tasks concurrently. It takes multiple awaitable objects (coroutines, Futures, etc.)\n",
    "    # and schedules them to run concurrently. When using gather, if one of the tasks raises an exception, all are cancelled.\n",
    "    await asyncio.gather(\n",
    "        task1(),\n",
    "        task2(),\n",
    "        task3(),\n",
    "    )\n",
    "    # Once all tasks are complete, print a confirmation message.\n",
    "    print(\"All tasks completed.\")\n",
    "\n",
    "# The asyncio.run() function is used to execute the run_tasks coroutine, which in turn runs all other tasks.\n",
    "# It manages the creation, running, and closing of the event loop, simplifying the execution of the async functions.\n",
    "asyncio.run(run_tasks())\n"
   ]
  },
  {
   "cell_type": "markdown",
   "id": "66f70130-497e-4e7a-b76f-acedb3295636",
   "metadata": {},
   "source": [
    "Expected Outcome and Execution Flow:\n",
    "1) Start Execution: The run_tasks() coroutine is called by asyncio.run(), which sets up and manages the event loop.\n",
    "2) Concurrent Execution:\n",
    "    * Task 1 starts and prints \"Task 1 started..\", then it sleeps for 2 seconds.\n",
    "    * Almost simultaneously, Task 2 and Task 3 start as well. They print their respective start messages and enter their sleep periods.\n",
    "    * Task 3 finishes first since it only sleeps for 1 second. It prints \"Task 3 Ended\".\n",
    "    * After Task 3, Task 1 completes its 2-second sleep and prints \"Task 1 Ended\".\n",
    "    * Finally, Task 2, which has the longest sleep time, finishes and prints \"Task 2 Ended\".\n",
    "3) Completion:\n",
    "    * Once all tasks are finished, asyncio.gather() completes, and \"All tasks completed.\" is printed.\n",
    "4) Program Ends: With the completion of run_tasks(), asyncio.run() finalizes by closing the event loop."
   ]
  },
  {
   "cell_type": "code",
   "execution_count": null,
   "id": "48dcd661-71c0-4f0d-8c9a-7551ddae8001",
   "metadata": {},
   "outputs": [],
   "source": []
  }
 ],
 "metadata": {
  "kernelspec": {
   "display_name": "Python 3 (ipykernel)",
   "language": "python",
   "name": "python3"
  },
  "language_info": {
   "codemirror_mode": {
    "name": "ipython",
    "version": 3
   },
   "file_extension": ".py",
   "mimetype": "text/x-python",
   "name": "python",
   "nbconvert_exporter": "python",
   "pygments_lexer": "ipython3",
   "version": "3.8.16"
  }
 },
 "nbformat": 4,
 "nbformat_minor": 5
}
