{
 "cells": [
  {
   "cell_type": "markdown",
   "metadata": {},
   "source": [
    "# Iterators and Generators"
   ]
  },
  {
   "cell_type": "markdown",
   "metadata": {},
   "source": [
    "### Iterators: Objects that allow traversal over the elements of a container (like lists or tuples) without the need for indexing.\n",
    "### Generators: A special type of iterator that can be paused and resumed, producing items one at a time and only when required. A concise way to create iterators using functions and the yield keyword\n"
   ]
  },
  {
   "cell_type": "markdown",
   "metadata": {},
   "source": [
    "### Example 1: Custom Iterator Class"
   ]
  },
  {
   "cell_type": "code",
   "execution_count": 4,
   "metadata": {},
   "outputs": [
    {
     "name": "stdout",
     "output_type": "stream",
     "text": [
      "5\n",
      "4\n",
      "3\n",
      "2\n",
      "1\n"
     ]
    }
   ],
   "source": [
    "class Countdown:\n",
    "    def __init__(self, start):\n",
    "        self.current = start\n",
    "\n",
    "    def __iter__(self):\n",
    "        return self\n",
    "\n",
    "    def __next__(self):\n",
    "        if self.current > 0:\n",
    "            self.current -= 1\n",
    "            return self.current + 1\n",
    "        else:\n",
    "            raise StopIteration\n",
    "\n",
    "# Usage\n",
    "countdown = Countdown(5)\n",
    "for number in countdown:\n",
    "    print(number)"
   ]
  },
  {
   "cell_type": "markdown",
   "metadata": {},
   "source": [
    "### Using built-in iter( ) and next( ) functions"
   ]
  },
  {
   "cell_type": "code",
   "execution_count": 5,
   "metadata": {},
   "outputs": [
    {
     "name": "stdout",
     "output_type": "stream",
     "text": [
      "1\n",
      "2\n",
      "3\n"
     ]
    }
   ],
   "source": [
    "my_list = [1, 2, 3]\n",
    "iterator = iter(my_list)\n",
    "print(next(iterator))  # Output: 1\n",
    "print(next(iterator))  # Output: 2\n",
    "print(next(iterator))  # Output: 3\n",
    "# print(next(iterator))  # Raises StopIteration\n"
   ]
  },
  {
   "cell_type": "markdown",
   "metadata": {},
   "source": [
    "### Discussion Point:\n",
    "1. Iterator Protocol: The methods required (__iter__() and __next__()).\n",
    "2. StopIteration Exception: Signals the end of iteration.\n",
    "3. Common Mistakes: Forgetting to update the internal state, leading to infinite loops."
   ]
  },
  {
   "cell_type": "markdown",
   "metadata": {},
   "source": [
    "## Example 2: Generators"
   ]
  },
  {
   "cell_type": "markdown",
   "metadata": {},
   "source": [
    "### Generator Function Equivalent"
   ]
  },
  {
   "cell_type": "code",
   "execution_count": 6,
   "metadata": {},
   "outputs": [
    {
     "name": "stdout",
     "output_type": "stream",
     "text": [
      "5\n",
      "4\n",
      "3\n",
      "2\n",
      "1\n"
     ]
    }
   ],
   "source": [
    "def countdown_generator(start):\n",
    "    current = start\n",
    "    while current > 0:\n",
    "        yield current\n",
    "        current -= 1\n",
    "\n",
    "# Usage\n",
    "for number in countdown_generator(5):\n",
    "    print(number)\n"
   ]
  },
  {
   "cell_type": "markdown",
   "metadata": {},
   "source": [
    "### Generator Expression"
   ]
  },
  {
   "cell_type": "code",
   "execution_count": 7,
   "metadata": {},
   "outputs": [
    {
     "name": "stdout",
     "output_type": "stream",
     "text": [
      "0\n",
      "1\n",
      "4\n",
      "9\n",
      "16\n"
     ]
    }
   ],
   "source": [
    "my_gen_exp = (x * x for x in range(5))\n",
    "for num in my_gen_exp:\n",
    "    print(num)"
   ]
  },
  {
   "cell_type": "markdown",
   "metadata": {},
   "source": [
    "### Discussion Points:\n",
    "\n",
    "1. Difference Between yield and return: yield pauses the function and saves its state for resumption.\n",
    "2. When to Use Generators: Situations requiring lazy evaluation or handling large datasets."
   ]
  },
  {
   "cell_type": "markdown",
   "metadata": {},
   "source": [
    "## Practical Applications"
   ]
  },
  {
   "cell_type": "markdown",
   "metadata": {},
   "source": [
    "## Application 1: Fibonacci Sequence Generator"
   ]
  },
  {
   "cell_type": "code",
   "execution_count": 8,
   "metadata": {},
   "outputs": [
    {
     "name": "stdout",
     "output_type": "stream",
     "text": [
      "0\n",
      "1\n",
      "1\n",
      "2\n",
      "3\n",
      "5\n",
      "8\n",
      "13\n",
      "21\n",
      "34\n"
     ]
    }
   ],
   "source": [
    "def fibonacci_generator():\n",
    "    a, b = 0, 1\n",
    "    while True:\n",
    "        yield a\n",
    "        a, b = b, a + b\n",
    "\n",
    "# Usage\n",
    "fib_gen = fibonacci_generator()\n",
    "for _ in range(10):\n",
    "    print(next(fib_gen))\n"
   ]
  },
  {
   "cell_type": "markdown",
   "metadata": {},
   "source": [
    "## Application 2: Reading Large Files Line by Line\n",
    "## Scenario: Imagine processing a log file that is several gigabytes in size"
   ]
  },
  {
   "cell_type": "code",
   "execution_count": null,
   "metadata": {},
   "outputs": [],
   "source": [
    "def read_large_file(file_path):\n",
    "    with open(file_path, 'r') as file:\n",
    "        for line in file:\n",
    "            yield line\n",
    "\n",
    "# Usage\n",
    "for line in read_large_file('large_log.txt'):\n",
    "    process(line)  # Define your processing function\n"
   ]
  },
  {
   "cell_type": "markdown",
   "metadata": {},
   "source": [
    "## Application 3: Data Stream Processing\n",
    "## Scenario: Processing data from an API or sensor that provides a continuous data stream."
   ]
  },
  {
   "cell_type": "code",
   "execution_count": 10,
   "metadata": {},
   "outputs": [
    {
     "name": "stdout",
     "output_type": "stream",
     "text": [
      "Received data: 60\n",
      "Received data: 33\n",
      "Received data: 50\n",
      "Received data: 62\n",
      "Received data: 77\n",
      "Received data: 12\n",
      "Received data: 90\n",
      "Received data: 99\n"
     ]
    }
   ],
   "source": [
    "import time\n",
    "import random\n",
    "\n",
    "def data_stream():\n",
    "    while True:\n",
    "        data = random.randint(1, 100)  # Simulate sensor data\n",
    "        yield data\n",
    "        time.sleep(1)  # Simulate delay\n",
    "\n",
    "# Usage\n",
    "for data in data_stream():\n",
    "    print(f\"Received data: {data}\")\n",
    "    if data > 90:\n",
    "        break  # Exit after a certain condition is met\n"
   ]
  },
  {
   "cell_type": "markdown",
   "metadata": {},
   "source": [
    "### Discussion Points:\n",
    "\n",
    "1. Memory Efficiency: Generators don't store the entire sequence in memory.\n",
    "2. Infinite Sequences: Generators can model sequences without a predefined end.\n",
    "3. Real-Time Data: Generators are ideal for handling data as it arrives."
   ]
  },
  {
   "cell_type": "markdown",
   "metadata": {},
   "source": [
    "## Advanced Generator Features"
   ]
  },
  {
   "cell_type": "markdown",
   "metadata": {},
   "source": [
    "## 1. Sending Values to Generators"
   ]
  },
  {
   "cell_type": "code",
   "execution_count": 11,
   "metadata": {},
   "outputs": [
    {
     "name": "stdout",
     "output_type": "stream",
     "text": [
      "10\n",
      "30\n",
      "60\n"
     ]
    }
   ],
   "source": [
    "def accumulator():\n",
    "    total = 0\n",
    "    while True:\n",
    "        value = yield total\n",
    "        if value is not None:\n",
    "            total += value\n",
    "\n",
    "# Usage\n",
    "acc = accumulator()\n",
    "next(acc)  # Initialize the generator\n",
    "print(acc.send(10))  # Output: 0\n",
    "print(acc.send(20))  # Output: 10\n",
    "print(acc.send(30))  # Output: 30\n"
   ]
  },
  {
   "cell_type": "markdown",
   "metadata": {},
   "source": [
    "## 2. Generator Delegation with 'yield from'"
   ]
  },
  {
   "cell_type": "code",
   "execution_count": 12,
   "metadata": {},
   "outputs": [
    {
     "name": "stdout",
     "output_type": "stream",
     "text": [
      "1\n",
      "2\n",
      "3\n",
      "4\n",
      "5\n"
     ]
    }
   ],
   "source": [
    "def sub_generator():\n",
    "    yield 1\n",
    "    yield 2\n",
    "    yield 3\n",
    "\n",
    "def main_generator():\n",
    "    yield from sub_generator()\n",
    "    yield 4\n",
    "    yield 5\n",
    "\n",
    "# Usage\n",
    "for value in main_generator():\n",
    "    print(value)\n"
   ]
  },
  {
   "cell_type": "markdown",
   "metadata": {},
   "source": [
    "## 3. Exception Handling in Generators\n",
    "### Use throw() to raise exceptions inside generators and close() to terminate them."
   ]
  },
  {
   "cell_type": "code",
   "execution_count": 13,
   "metadata": {},
   "outputs": [
    {
     "name": "stdout",
     "output_type": "stream",
     "text": [
      "Generator closed!\n"
     ]
    }
   ],
   "source": [
    "def generator_with_exception():\n",
    "    try:\n",
    "        while True:\n",
    "            yield\n",
    "    except GeneratorExit:\n",
    "        print(\"Generator closed!\")\n",
    "\n",
    "# Usage\n",
    "gen = generator_with_exception()\n",
    "next(gen)\n",
    "gen.close()  # Output: Generator closed!"
   ]
  },
  {
   "cell_type": "markdown",
   "metadata": {},
   "source": [
    "### Discussion Points:\n",
    "\n",
    "1. Coroutines: Generators can be used for cooperative multitasking.\n",
    "2. Asynchronous Programming: How generators pave the way for async and await in modern Python."
   ]
  },
  {
   "cell_type": "markdown",
   "metadata": {},
   "source": [
    "## Summary: Reiterate the key concepts covered:\n",
    "## 1. The iterator protocol and custom iterators.\n",
    "## 2.  Generators and the yield keyword.\n",
    "## 3. Practical uses of generators for efficient data handling.\n",
    "## 4. Advanced features like send(), throw(), and yield from."
   ]
  },
  {
   "cell_type": "markdown",
   "metadata": {},
   "source": []
  }
 ],
 "metadata": {
  "kernelspec": {
   "display_name": "yao_project",
   "language": "python",
   "name": "python3"
  },
  "language_info": {
   "codemirror_mode": {
    "name": "ipython",
    "version": 3
   },
   "file_extension": ".py",
   "mimetype": "text/x-python",
   "name": "python",
   "nbconvert_exporter": "python",
   "pygments_lexer": "ipython3",
   "version": "3.10.0"
  }
 },
 "nbformat": 4,
 "nbformat_minor": 2
}
