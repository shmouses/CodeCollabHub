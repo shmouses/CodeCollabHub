{
 "cells": [
  {
   "cell_type": "markdown",
   "metadata": {},
   "source": [
    "## Procedural programming\n"
   ]
  },
  {
   "cell_type": "code",
   "execution_count": 2,
   "metadata": {},
   "outputs": [
    {
     "name": "stdout",
     "output_type": "stream",
     "text": [
      "Area: 15\n"
     ]
    }
   ],
   "source": [
    "# Procedural code\n",
    "def calculate_area(length, width):\n",
    "    return length * width\n",
    "\n",
    "length = 5\n",
    "width = 3\n",
    "area = calculate_area(length, width)\n",
    "print(f\"Area: {area}\")\n"
   ]
  },
  {
   "cell_type": "markdown",
   "metadata": {},
   "source": [
    "## Object oriented programming"
   ]
  },
  {
   "cell_type": "code",
   "execution_count": 1,
   "metadata": {},
   "outputs": [
    {
     "name": "stdout",
     "output_type": "stream",
     "text": [
      "Area: 15\n"
     ]
    }
   ],
   "source": [
    "# Object-oriented code\n",
    "class Rectangle:\n",
    "    def __init__(self, length, width):\n",
    "        self.length = length\n",
    "        self.width = width\n",
    "\n",
    "    def calculate_area(self):\n",
    "        return self.length * self.width\n",
    "\n",
    "rect = Rectangle(5, 3)\n",
    "print(f\"Area: {rect.calculate_area()}\")\n"
   ]
  },
  {
   "cell_type": "markdown",
   "metadata": {},
   "source": [
    "## Classes are objects!"
   ]
  },
  {
   "cell_type": "code",
   "execution_count": 4,
   "metadata": {},
   "outputs": [],
   "source": [
    "class ObjectCreator(object):\n",
    "    pass"
   ]
  },
  {
   "cell_type": "code",
   "execution_count": 5,
   "metadata": {},
   "outputs": [
    {
     "name": "stdout",
     "output_type": "stream",
     "text": [
      "<__main__.ObjectCreator object at 0x7f64382daa70>\n"
     ]
    }
   ],
   "source": [
    "my_object = ObjectCreator()\n",
    "print(my_object)\n"
   ]
  },
  {
   "cell_type": "code",
   "execution_count": 6,
   "metadata": {},
   "outputs": [
    {
     "name": "stdout",
     "output_type": "stream",
     "text": [
      "<class '__main__.ObjectCreator'>\n"
     ]
    }
   ],
   "source": [
    "# a. object can be assigned to a variable\n",
    "JustAnotherVariable = ObjectCreator\n",
    "\n",
    "# b. we can attach attribute to it\n",
    "ObjectCreator.class_attribute = 'foo'\n",
    "\n",
    "# c. we can operate it using functions!\n",
    "print(ObjectCreator)"
   ]
  },
  {
   "cell_type": "code",
   "execution_count": 7,
   "metadata": {},
   "outputs": [
    {
     "name": "stdout",
     "output_type": "stream",
     "text": [
      "<class 'type'>\n"
     ]
    }
   ],
   "source": [
    "# what's the type of a class --- type!  \n",
    "print(type(ObjectCreator)) # it means class is an instance of type\n"
   ]
  },
  {
   "cell_type": "code",
   "execution_count": 8,
   "metadata": {},
   "outputs": [
    {
     "name": "stdout",
     "output_type": "stream",
     "text": [
      "<class '__main__.ObjectCreator'>\n"
     ]
    }
   ],
   "source": [
    "# what's the type of the instance created by a class? --- of its respective class type\n",
    "print(type(ObjectCreator()))\n"
   ]
  },
  {
   "cell_type": "markdown",
   "metadata": {},
   "source": [
    "### Type can create classes on the fly!!\n",
    "Since class is also an object, it has to be generated from somewhere\n",
    "type(name, bases, attrs) can create class\n",
    "- name: name of the class\n",
    "- bases: tuple of the parent class\n",
    "- attrs: attributes that contains attribute names and values\n",
    "\n"
   ]
  },
  {
   "cell_type": "code",
   "execution_count": 11,
   "metadata": {},
   "outputs": [
    {
     "name": "stdout",
     "output_type": "stream",
     "text": [
      "<class '__main__.pp_tutor'>\n"
     ]
    }
   ],
   "source": [
    "# for example:\n",
    "class pp_tutor():\n",
    "    pass\n",
    "print(pp_tutor)"
   ]
  },
  {
   "cell_type": "code",
   "execution_count": 10,
   "metadata": {},
   "outputs": [
    {
     "name": "stdout",
     "output_type": "stream",
     "text": [
      "<class '__main__.pp_tutor'>\n",
      "<__main__.pp_tutor object at 0x7f6438372620>\n"
     ]
    }
   ],
   "source": [
    "pp_tutor = type('pp_tutor',(),{})\n",
    "print(pp_tutor)\n",
    "print(pp_tutor())"
   ]
  },
  {
   "cell_type": "code",
   "execution_count": 1,
   "metadata": {},
   "outputs": [],
   "source": [
    "# type accepts a dictionary to define the attributes of the class. \n",
    "\n",
    "class Pair_programming(object):\n",
    "       attendance = True"
   ]
  },
  {
   "cell_type": "code",
   "execution_count": null,
   "metadata": {},
   "outputs": [],
   "source": [
    "# type accepts a dictionary to define the attributes of the class. \n",
    "\n",
    "class Pair_programming(object):\n",
    "       attendance = True"
   ]
  },
  {
   "cell_type": "code",
   "execution_count": 3,
   "metadata": {},
   "outputs": [
    {
     "name": "stdout",
     "output_type": "stream",
     "text": [
      "----------Create class method 1-----------\n",
      "<class '__main__.Pair_programming'>\n",
      "True\n",
      "----------Create class by type-----------\n",
      "<class '__main__.type_Pair_programming'>\n",
      "True\n"
     ]
    }
   ],
   "source": [
    "type_pair_programming = type('type_Pair_programming', (), {'attendance':True})\n",
    "\n",
    "print('----------Create class method 1-----------')\n",
    "print(Pair_programming)\n",
    "print(Pair_programming.attendance)\n",
    "print('----------Create class by type-----------')\n",
    "print(type_pair_programming)\n",
    "print(type_pair_programming.attendance)\n"
   ]
  },
  {
   "cell_type": "markdown",
   "metadata": {},
   "source": [
    "## What are metaclasses (finally)\n",
    "metaclasses are what create these objects. They are the classes' classes, you can picture them this way:"
   ]
  },
  {
   "cell_type": "code",
   "execution_count": 13,
   "metadata": {},
   "outputs": [],
   "source": [
    "# MyClass = MetaClass()\n",
    "# my_object = MyClass()"
   ]
  },
  {
   "cell_type": "code",
   "execution_count": 4,
   "metadata": {},
   "outputs": [],
   "source": [
    "# so let's do some check on a bunch of objects' types!\n",
    "runze_age = 18\n",
    "\n",
    "runze_name = 'Runze'\n",
    "\n",
    "def runze_eat(weight):\n",
    "    weight+=1\n",
    "    return weight\n",
    "\n",
    "class human():pass\n",
    "runze = human()"
   ]
  },
  {
   "cell_type": "code",
   "execution_count": 7,
   "metadata": {},
   "outputs": [
    {
     "name": "stdout",
     "output_type": "stream",
     "text": [
      "<class 'int'>\n",
      "<class 'str'>\n",
      "<class 'function'>\n",
      "<class '__main__.human'>\n"
     ]
    }
   ],
   "source": [
    "print(runze_age.__class__)\n",
    "print(runze_name.__class__)\n",
    "print(runze_eat.__class__)\n",
    "print(runze.__class__)"
   ]
  },
  {
   "cell_type": "code",
   "execution_count": 8,
   "metadata": {},
   "outputs": [
    {
     "name": "stdout",
     "output_type": "stream",
     "text": [
      "<class 'type'>\n"
     ]
    }
   ],
   "source": [
    "# but what is the __class__ of a __class__\n",
    "print(runze.__class__.__class__) # it's a type! "
   ]
  },
  {
   "cell_type": "markdown",
   "metadata": {},
   "source": [
    "### Why we might care about metaclass? "
   ]
  },
  {
   "cell_type": "code",
   "execution_count": 15,
   "metadata": {},
   "outputs": [],
   "source": [
    "# The main purpose of a metaclass is to change the class automatically, when it's created. (usually helpful for API)\n",
    "# for example, you suddenly go nuts and want all your attributes of classes written in uppercase\n",
    "def upper_attr(future_class_name, future_class_parents, future_class_attrs):\n",
    "    \"\"\"\n",
    "      Return a class object, with the list of its attribute turned\n",
    "      into uppercase.\n",
    "    \"\"\"\n",
    "    # pick up any attribute that doesn't start with '__' and uppercase it\n",
    "    uppercase_attrs = {\n",
    "        attr if attr.startswith(\"__\") else attr.upper(): v\n",
    "        for attr, v in future_class_attrs.items()\n",
    "    }\n",
    "\n",
    "    # let `type` do the class creation\n",
    "    return type(future_class_name, future_class_parents, uppercase_attrs)\n",
    "\n",
    "\n",
    "class pair_programming(metaclass = upper_attr):\n",
    "    attendance = 'required'"
   ]
  },
  {
   "cell_type": "code",
   "execution_count": 17,
   "metadata": {},
   "outputs": [
    {
     "name": "stdout",
     "output_type": "stream",
     "text": [
      "False\n",
      "True\n"
     ]
    }
   ],
   "source": [
    "print(hasattr(pair_programming,'attendance'))\n",
    "print(hasattr(pair_programming,'ATTENDANCE'))"
   ]
  },
  {
   "cell_type": "code",
   "execution_count": 22,
   "metadata": {},
   "outputs": [
    {
     "ename": "AttributeError",
     "evalue": "type object 'pair_programming' has no attribute 'attendance'",
     "output_type": "error",
     "traceback": [
      "\u001b[0;31m---------------------------------------------------------------------------\u001b[0m",
      "\u001b[0;31mAttributeError\u001b[0m                            Traceback (most recent call last)",
      "Cell \u001b[0;32mIn[22], line 1\u001b[0m\n\u001b[0;32m----> 1\u001b[0m \u001b[43mpair_programming\u001b[49m\u001b[38;5;241;43m.\u001b[39;49m\u001b[43mattendance\u001b[49m\n",
      "\u001b[0;31mAttributeError\u001b[0m: type object 'pair_programming' has no attribute 'attendance'"
     ]
    }
   ],
   "source": [
    "pair_programming.attendance"
   ]
  },
  {
   "cell_type": "markdown",
   "metadata": {},
   "source": [
    "### Application scenarios - to create an API"
   ]
  },
  {
   "cell_type": "code",
   "execution_count": null,
   "metadata": {},
   "outputs": [],
   "source": [
    "# A simple example from Django ORM\n",
    "# it allows something like \n",
    "class Person(models.Model):\n",
    "    name = models.CharField(max_length=30)\n",
    "    age = models.IntegerField()"
   ]
  },
  {
   "cell_type": "code",
   "execution_count": null,
   "metadata": {},
   "outputs": [],
   "source": [
    "# but when you create an object, it returns an int instead of IntegerField\n",
    "person = Person(name='bob', age='35')"
   ]
  },
  {
   "cell_type": "markdown",
   "metadata": {},
   "source": [
    "### Last words"
   ]
  },
  {
   "cell_type": "markdown",
   "metadata": {},
   "source": [
    "1. everything is an object in python, and it's either instances of classes, or instances of metaclasses, except for type\n",
    "2. 99% of time you shouldn't use metaclass to alter class as there's simpler way to do so, and 98% of time you don't need to alter your class."
   ]
  }
 ],
 "metadata": {
  "kernelspec": {
   "display_name": "autoeis",
   "language": "python",
   "name": "python3"
  },
  "language_info": {
   "codemirror_mode": {
    "name": "ipython",
    "version": 3
   },
   "file_extension": ".py",
   "mimetype": "text/x-python",
   "name": "python",
   "nbconvert_exporter": "python",
   "pygments_lexer": "ipython3",
   "version": "3.10.13"
  }
 },
 "nbformat": 4,
 "nbformat_minor": 2
}
